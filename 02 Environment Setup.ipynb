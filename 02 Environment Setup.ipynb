{
 "cells": [
  {
   "cell_type": "markdown",
   "metadata": {},
   "source": [
    "# Environment and Dependencies\n",
    "By:<a href='https://www.youtube.com/wonkyCode'>WonkyCode</a>\n",
    "\n",
    "**To Install Matplotlib:**\n",
    "<code>python -m pip install -U matplotlib</code>\n",
    "\n",
    "**Update with Conda (Anaconda Prompt):**\n",
    "<code>conda update PackageName</code>\n",
    "\n",
    "**Alternative: Update with PIP (Python 3x):**\n",
    "<code>python -m pip install --upgrade PackageName</code>\n",
    "\n",
    "**Dependencies Needed:**\n",
    "* Python\n",
    "* NumPy\n",
    "* setuptools\n",
    "* cycler\n",
    "* dateutil\n",
    "* kiwisolver\n",
    "* Pillow\n",
    "* pyparsing\n",
    "\n",
    "https://matplotlib.org/stable/users/installing.html"
   ]
  },
  {
   "cell_type": "code",
   "execution_count": 1,
   "metadata": {},
   "outputs": [],
   "source": [
    "import matplotlib.pyplot as plt"
   ]
  },
  {
   "cell_type": "code",
   "execution_count": null,
   "metadata": {},
   "outputs": [],
   "source": []
  },
  {
   "cell_type": "code",
   "execution_count": null,
   "metadata": {},
   "outputs": [],
   "source": []
  }
 ],
 "metadata": {
  "kernelspec": {
   "display_name": "Python 3",
   "language": "python",
   "name": "python3"
  },
  "language_info": {
   "codemirror_mode": {
    "name": "ipython",
    "version": 3
   },
   "file_extension": ".py",
   "mimetype": "text/x-python",
   "name": "python",
   "nbconvert_exporter": "python",
   "pygments_lexer": "ipython3",
   "version": "3.8.5"
  }
 },
 "nbformat": 4,
 "nbformat_minor": 4
}
