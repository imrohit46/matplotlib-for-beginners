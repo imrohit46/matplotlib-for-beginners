{
 "cells": [
  {
   "cell_type": "markdown",
   "metadata": {},
   "source": [
    "# Introduction to Matplotlib\n",
    "By:<a href='https://www.youtube.com/wonkyCode'>WonkyCode</a>\n",
    "* Matplotlib is one of the most popular Python packages used for data visualization.\n",
    "* It is a cross platform library for making 2D plots from data in arrays.\n",
    "* Matplotlib is written in Python and makes use of Numpy. It provides an object-Oriented API that helps in embedding plots in applications using Python GUI toolkits such as PyQt."
   ]
  },
  {
   "cell_type": "markdown",
   "metadata": {},
   "source": [
    " ## The Structure of a Plot in Matplotlib:"
   ]
  },
  {
   "cell_type": "markdown",
   "metadata": {},
   "source": [
    "<code>\n",
    "plt.figure()\n",
    "plt.plot()\n",
    ".\n",
    ".\n",
    ".\n",
    "plt.show()\n",
    "</code>\n",
    "\n",
    "* Visualization are built layer by layer.\n",
    "* Commands that draw the actual plots and create additional plot elements.\n",
    "* Each command line accesses a certain plot element.\n",
    "\n",
    "***Matplotlib contains three main layers:***\n",
    "1. Backend Layer\n",
    "2. Artist Layer\n",
    "3. Scripting Layer"
   ]
  },
  {
   "cell_type": "markdown",
   "metadata": {},
   "source": [
    "**Useful Resources:**\n",
    "* https://en.wikipedia.org/wiki/Matplotlib\n",
    "* https://matplotlib.org/\n",
    "* https://towardsdatascience.com/understanding-the-structure-of-matplotlib-23b97f507fac"
   ]
  },
  {
   "cell_type": "code",
   "execution_count": null,
   "metadata": {},
   "outputs": [],
   "source": []
  }
 ],
 "metadata": {
  "kernelspec": {
   "display_name": "Python 3",
   "language": "python",
   "name": "python3"
  },
  "language_info": {
   "codemirror_mode": {
    "name": "ipython",
    "version": 3
   },
   "file_extension": ".py",
   "mimetype": "text/x-python",
   "name": "python",
   "nbconvert_exporter": "python",
   "pygments_lexer": "ipython3",
   "version": "3.8.5"
  }
 },
 "nbformat": 4,
 "nbformat_minor": 4
}
