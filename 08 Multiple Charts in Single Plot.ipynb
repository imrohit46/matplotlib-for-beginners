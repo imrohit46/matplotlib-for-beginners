{
 "cells": [
  {
   "cell_type": "markdown",
   "metadata": {},
   "source": [
    "# Multiple Charts in Single Plot\n",
    "By:<a href='https://www.youtube.com/wonkyCode'>WonkyCode</a>"
   ]
  },
  {
   "cell_type": "code",
   "execution_count": 1,
   "metadata": {},
   "outputs": [],
   "source": [
    "import numpy as np\n",
    "import pandas as pd\n",
    "import matplotlib.pyplot as plt"
   ]
  },
  {
   "cell_type": "code",
   "execution_count": 12,
   "metadata": {},
   "outputs": [
    {
     "data": {
      "text/html": [
       "<div>\n",
       "<style scoped>\n",
       "    .dataframe tbody tr th:only-of-type {\n",
       "        vertical-align: middle;\n",
       "    }\n",
       "\n",
       "    .dataframe tbody tr th {\n",
       "        vertical-align: top;\n",
       "    }\n",
       "\n",
       "    .dataframe thead th {\n",
       "        text-align: right;\n",
       "    }\n",
       "</style>\n",
       "<table border=\"1\" class=\"dataframe\">\n",
       "  <thead>\n",
       "    <tr style=\"text-align: right;\">\n",
       "      <th></th>\n",
       "      <th>sepal_length</th>\n",
       "      <th>sepal_width</th>\n",
       "      <th>petal_length</th>\n",
       "      <th>petal_width</th>\n",
       "      <th>species</th>\n",
       "    </tr>\n",
       "  </thead>\n",
       "  <tbody>\n",
       "    <tr>\n",
       "      <th>0</th>\n",
       "      <td>5.1</td>\n",
       "      <td>3.5</td>\n",
       "      <td>1.4</td>\n",
       "      <td>0.2</td>\n",
       "      <td>Iris-setosa</td>\n",
       "    </tr>\n",
       "    <tr>\n",
       "      <th>1</th>\n",
       "      <td>4.9</td>\n",
       "      <td>3.0</td>\n",
       "      <td>1.4</td>\n",
       "      <td>0.2</td>\n",
       "      <td>Iris-setosa</td>\n",
       "    </tr>\n",
       "    <tr>\n",
       "      <th>2</th>\n",
       "      <td>4.7</td>\n",
       "      <td>3.2</td>\n",
       "      <td>1.3</td>\n",
       "      <td>0.2</td>\n",
       "      <td>Iris-setosa</td>\n",
       "    </tr>\n",
       "    <tr>\n",
       "      <th>3</th>\n",
       "      <td>4.6</td>\n",
       "      <td>3.1</td>\n",
       "      <td>1.5</td>\n",
       "      <td>0.2</td>\n",
       "      <td>Iris-setosa</td>\n",
       "    </tr>\n",
       "    <tr>\n",
       "      <th>4</th>\n",
       "      <td>5.0</td>\n",
       "      <td>3.6</td>\n",
       "      <td>1.4</td>\n",
       "      <td>0.2</td>\n",
       "      <td>Iris-setosa</td>\n",
       "    </tr>\n",
       "    <tr>\n",
       "      <th>...</th>\n",
       "      <td>...</td>\n",
       "      <td>...</td>\n",
       "      <td>...</td>\n",
       "      <td>...</td>\n",
       "      <td>...</td>\n",
       "    </tr>\n",
       "    <tr>\n",
       "      <th>145</th>\n",
       "      <td>6.7</td>\n",
       "      <td>3.0</td>\n",
       "      <td>5.2</td>\n",
       "      <td>2.3</td>\n",
       "      <td>Iris-virginica</td>\n",
       "    </tr>\n",
       "    <tr>\n",
       "      <th>146</th>\n",
       "      <td>6.3</td>\n",
       "      <td>2.5</td>\n",
       "      <td>5.0</td>\n",
       "      <td>1.9</td>\n",
       "      <td>Iris-virginica</td>\n",
       "    </tr>\n",
       "    <tr>\n",
       "      <th>147</th>\n",
       "      <td>6.5</td>\n",
       "      <td>3.0</td>\n",
       "      <td>5.2</td>\n",
       "      <td>2.0</td>\n",
       "      <td>Iris-virginica</td>\n",
       "    </tr>\n",
       "    <tr>\n",
       "      <th>148</th>\n",
       "      <td>6.2</td>\n",
       "      <td>3.4</td>\n",
       "      <td>5.4</td>\n",
       "      <td>2.3</td>\n",
       "      <td>Iris-virginica</td>\n",
       "    </tr>\n",
       "    <tr>\n",
       "      <th>149</th>\n",
       "      <td>5.9</td>\n",
       "      <td>3.0</td>\n",
       "      <td>5.1</td>\n",
       "      <td>1.8</td>\n",
       "      <td>Iris-virginica</td>\n",
       "    </tr>\n",
       "  </tbody>\n",
       "</table>\n",
       "<p>150 rows × 5 columns</p>\n",
       "</div>"
      ],
      "text/plain": [
       "     sepal_length  sepal_width  petal_length  petal_width         species\n",
       "0             5.1          3.5           1.4          0.2     Iris-setosa\n",
       "1             4.9          3.0           1.4          0.2     Iris-setosa\n",
       "2             4.7          3.2           1.3          0.2     Iris-setosa\n",
       "3             4.6          3.1           1.5          0.2     Iris-setosa\n",
       "4             5.0          3.6           1.4          0.2     Iris-setosa\n",
       "..            ...          ...           ...          ...             ...\n",
       "145           6.7          3.0           5.2          2.3  Iris-virginica\n",
       "146           6.3          2.5           5.0          1.9  Iris-virginica\n",
       "147           6.5          3.0           5.2          2.0  Iris-virginica\n",
       "148           6.2          3.4           5.4          2.3  Iris-virginica\n",
       "149           5.9          3.0           5.1          1.8  Iris-virginica\n",
       "\n",
       "[150 rows x 5 columns]"
      ]
     },
     "execution_count": 12,
     "metadata": {},
     "output_type": "execute_result"
    }
   ],
   "source": [
    "data = pd.read_csv(\"iris.csv\")\n",
    "data"
   ]
  },
  {
   "cell_type": "code",
   "execution_count": 3,
   "metadata": {},
   "outputs": [],
   "source": [
    "sl = data[\"sepal_length\"]\n",
    "sw = data[\"sepal_width\"]\n",
    "pl = data[\"petal_length\"]\n",
    "pw = data[\"petal_width\"]\n",
    "\n",
    "species = data[\"species\"]"
   ]
  },
  {
   "cell_type": "code",
   "execution_count": 5,
   "metadata": {},
   "outputs": [
    {
     "data": {
      "image/png": "[encoded data removed]",
      "text/plain": [
       "<Figure size 864x432 with 1 Axes>"
      ]
     },
     "metadata": {
      "needs_background": "light"
     },
     "output_type": "display_data"
    }
   ],
   "source": [
    "# scatter plot with two data series\n",
    "plt.figure(figsize = (12,6))\n",
    "plt.scatter(sl, sw, marker='o')\n",
    "plt.scatter(pl, pw, marker='s')\n",
    "plt.legend(['SL vs SW', 'PL vs PW'])\n",
    "plt.grid()\n",
    "plt.show()"
   ]
  },
  {
   "cell_type": "code",
   "execution_count": 11,
   "metadata": {},
   "outputs": [
    {
     "data": {
      "text/html": [
       "<div>\n",
       "<style scoped>\n",
       "    .dataframe tbody tr th:only-of-type {\n",
       "        vertical-align: middle;\n",
       "    }\n",
       "\n",
       "    .dataframe tbody tr th {\n",
       "        vertical-align: top;\n",
       "    }\n",
       "\n",
       "    .dataframe thead th {\n",
       "        text-align: right;\n",
       "    }\n",
       "</style>\n",
       "<table border=\"1\" class=\"dataframe\">\n",
       "  <thead>\n",
       "    <tr style=\"text-align: right;\">\n",
       "      <th></th>\n",
       "      <th>timestamp</th>\n",
       "      <th>open</th>\n",
       "      <th>high</th>\n",
       "      <th>low</th>\n",
       "      <th>close</th>\n",
       "      <th>volume</th>\n",
       "    </tr>\n",
       "  </thead>\n",
       "  <tbody>\n",
       "    <tr>\n",
       "      <th>0</th>\n",
       "      <td>2017-01-02 09:15:00+05:30</td>\n",
       "      <td>536.55</td>\n",
       "      <td>537.85</td>\n",
       "      <td>535.60</td>\n",
       "      <td>535.90</td>\n",
       "      <td>30989</td>\n",
       "    </tr>\n",
       "    <tr>\n",
       "      <th>1</th>\n",
       "      <td>2017-01-02 09:16:00+05:30</td>\n",
       "      <td>536.35</td>\n",
       "      <td>536.65</td>\n",
       "      <td>536.05</td>\n",
       "      <td>536.40</td>\n",
       "      <td>15076</td>\n",
       "    </tr>\n",
       "    <tr>\n",
       "      <th>2</th>\n",
       "      <td>2017-01-02 09:17:00+05:30</td>\n",
       "      <td>536.55</td>\n",
       "      <td>536.55</td>\n",
       "      <td>532.20</td>\n",
       "      <td>532.20</td>\n",
       "      <td>53438</td>\n",
       "    </tr>\n",
       "    <tr>\n",
       "      <th>3</th>\n",
       "      <td>2017-01-02 09:18:00+05:30</td>\n",
       "      <td>532.30</td>\n",
       "      <td>534.85</td>\n",
       "      <td>531.15</td>\n",
       "      <td>534.85</td>\n",
       "      <td>35025</td>\n",
       "    </tr>\n",
       "    <tr>\n",
       "      <th>4</th>\n",
       "      <td>2017-01-02 09:19:00+05:30</td>\n",
       "      <td>534.90</td>\n",
       "      <td>535.10</td>\n",
       "      <td>534.35</td>\n",
       "      <td>534.80</td>\n",
       "      <td>21102</td>\n",
       "    </tr>\n",
       "    <tr>\n",
       "      <th>5</th>\n",
       "      <td>2017-01-02 09:20:00+05:30</td>\n",
       "      <td>534.95</td>\n",
       "      <td>534.95</td>\n",
       "      <td>533.75</td>\n",
       "      <td>534.90</td>\n",
       "      <td>15871</td>\n",
       "    </tr>\n",
       "    <tr>\n",
       "      <th>6</th>\n",
       "      <td>2017-01-02 09:21:00+05:30</td>\n",
       "      <td>534.55</td>\n",
       "      <td>535.10</td>\n",
       "      <td>534.55</td>\n",
       "      <td>534.75</td>\n",
       "      <td>8530</td>\n",
       "    </tr>\n",
       "    <tr>\n",
       "      <th>7</th>\n",
       "      <td>2017-01-02 09:22:00+05:30</td>\n",
       "      <td>534.75</td>\n",
       "      <td>534.80</td>\n",
       "      <td>534.20</td>\n",
       "      <td>534.30</td>\n",
       "      <td>5045</td>\n",
       "    </tr>\n",
       "    <tr>\n",
       "      <th>8</th>\n",
       "      <td>2017-01-02 09:23:00+05:30</td>\n",
       "      <td>534.45</td>\n",
       "      <td>534.80</td>\n",
       "      <td>534.30</td>\n",
       "      <td>534.30</td>\n",
       "      <td>2223</td>\n",
       "    </tr>\n",
       "    <tr>\n",
       "      <th>9</th>\n",
       "      <td>2017-01-02 09:24:00+05:30</td>\n",
       "      <td>534.30</td>\n",
       "      <td>534.30</td>\n",
       "      <td>533.95</td>\n",
       "      <td>534.15</td>\n",
       "      <td>3527</td>\n",
       "    </tr>\n",
       "    <tr>\n",
       "      <th>10</th>\n",
       "      <td>2017-01-02 09:25:00+05:30</td>\n",
       "      <td>534.15</td>\n",
       "      <td>534.55</td>\n",
       "      <td>534.10</td>\n",
       "      <td>534.45</td>\n",
       "      <td>4260</td>\n",
       "    </tr>\n",
       "    <tr>\n",
       "      <th>11</th>\n",
       "      <td>2017-01-02 09:26:00+05:30</td>\n",
       "      <td>534.50</td>\n",
       "      <td>534.50</td>\n",
       "      <td>534.05</td>\n",
       "      <td>534.30</td>\n",
       "      <td>4581</td>\n",
       "    </tr>\n",
       "    <tr>\n",
       "      <th>12</th>\n",
       "      <td>2017-01-02 09:27:00+05:30</td>\n",
       "      <td>534.30</td>\n",
       "      <td>534.30</td>\n",
       "      <td>533.95</td>\n",
       "      <td>533.95</td>\n",
       "      <td>5084</td>\n",
       "    </tr>\n",
       "    <tr>\n",
       "      <th>13</th>\n",
       "      <td>2017-01-02 09:28:00+05:30</td>\n",
       "      <td>533.95</td>\n",
       "      <td>533.95</td>\n",
       "      <td>533.45</td>\n",
       "      <td>533.80</td>\n",
       "      <td>6907</td>\n",
       "    </tr>\n",
       "    <tr>\n",
       "      <th>14</th>\n",
       "      <td>2017-01-02 09:29:00+05:30</td>\n",
       "      <td>533.75</td>\n",
       "      <td>533.75</td>\n",
       "      <td>533.45</td>\n",
       "      <td>533.60</td>\n",
       "      <td>4732</td>\n",
       "    </tr>\n",
       "    <tr>\n",
       "      <th>15</th>\n",
       "      <td>2017-01-02 09:30:00+05:30</td>\n",
       "      <td>533.60</td>\n",
       "      <td>533.95</td>\n",
       "      <td>533.60</td>\n",
       "      <td>533.75</td>\n",
       "      <td>3961</td>\n",
       "    </tr>\n",
       "    <tr>\n",
       "      <th>16</th>\n",
       "      <td>2017-01-02 09:31:00+05:30</td>\n",
       "      <td>533.75</td>\n",
       "      <td>533.85</td>\n",
       "      <td>533.45</td>\n",
       "      <td>533.45</td>\n",
       "      <td>5768</td>\n",
       "    </tr>\n",
       "    <tr>\n",
       "      <th>17</th>\n",
       "      <td>2017-01-02 09:32:00+05:30</td>\n",
       "      <td>533.45</td>\n",
       "      <td>534.30</td>\n",
       "      <td>533.45</td>\n",
       "      <td>534.30</td>\n",
       "      <td>4573</td>\n",
       "    </tr>\n",
       "    <tr>\n",
       "      <th>18</th>\n",
       "      <td>2017-01-02 09:33:00+05:30</td>\n",
       "      <td>534.30</td>\n",
       "      <td>535.10</td>\n",
       "      <td>534.25</td>\n",
       "      <td>535.10</td>\n",
       "      <td>20309</td>\n",
       "    </tr>\n",
       "  </tbody>\n",
       "</table>\n",
       "</div>"
      ],
      "text/plain": [
       "                   timestamp    open    high     low   close  volume\n",
       "0  2017-01-02 09:15:00+05:30  536.55  537.85  535.60  535.90   30989\n",
       "1  2017-01-02 09:16:00+05:30  536.35  536.65  536.05  536.40   15076\n",
       "2  2017-01-02 09:17:00+05:30  536.55  536.55  532.20  532.20   53438\n",
       "3  2017-01-02 09:18:00+05:30  532.30  534.85  531.15  534.85   35025\n",
       "4  2017-01-02 09:19:00+05:30  534.90  535.10  534.35  534.80   21102\n",
       "5  2017-01-02 09:20:00+05:30  534.95  534.95  533.75  534.90   15871\n",
       "6  2017-01-02 09:21:00+05:30  534.55  535.10  534.55  534.75    8530\n",
       "7  2017-01-02 09:22:00+05:30  534.75  534.80  534.20  534.30    5045\n",
       "8  2017-01-02 09:23:00+05:30  534.45  534.80  534.30  534.30    2223\n",
       "9  2017-01-02 09:24:00+05:30  534.30  534.30  533.95  534.15    3527\n",
       "10 2017-01-02 09:25:00+05:30  534.15  534.55  534.10  534.45    4260\n",
       "11 2017-01-02 09:26:00+05:30  534.50  534.50  534.05  534.30    4581\n",
       "12 2017-01-02 09:27:00+05:30  534.30  534.30  533.95  533.95    5084\n",
       "13 2017-01-02 09:28:00+05:30  533.95  533.95  533.45  533.80    6907\n",
       "14 2017-01-02 09:29:00+05:30  533.75  533.75  533.45  533.60    4732\n",
       "15 2017-01-02 09:30:00+05:30  533.60  533.95  533.60  533.75    3961\n",
       "16 2017-01-02 09:31:00+05:30  533.75  533.85  533.45  533.45    5768\n",
       "17 2017-01-02 09:32:00+05:30  533.45  534.30  533.45  534.30    4573\n",
       "18 2017-01-02 09:33:00+05:30  534.30  535.10  534.25  535.10   20309"
      ]
     },
     "execution_count": 11,
     "metadata": {},
     "output_type": "execute_result"
    }
   ],
   "source": [
    "stock = pd.read_csv(\"stock.csv\")\n",
    "stock['timestamp'] = pd.to_datetime(stock['timestamp'])\n",
    "stock"
   ]
  },
  {
   "cell_type": "code",
   "execution_count": 7,
   "metadata": {},
   "outputs": [],
   "source": [
    "dates = stock['timestamp']\n",
    "volume = stock['volume']\n",
    "open_price = stock['open']\n",
    "close_price = stock['close']"
   ]
  },
  {
   "cell_type": "code",
   "execution_count": 8,
   "metadata": {},
   "outputs": [
    {
     "data": {
      "image/png": "[encoded data removed]",
      "text/plain": [
       "<Figure size 864x432 with 1 Axes>"
      ]
     },
     "metadata": {
      "needs_background": "light"
     },
     "output_type": "display_data"
    }
   ],
   "source": [
    "# Line plot with two data series\n",
    "plt.figure(figsize=(12,6))\n",
    "plt.plot(dates, open_price)\n",
    "plt.plot(dates, close_price)\n",
    "plt.legend(['Open Price', 'Close Price'])\n",
    "plt.xlabel(\"Date\")\n",
    "plt.ylabel(\"Price\")\n",
    "plt.title(\"Opened and Closed Prices on the Date\")\n",
    "plt.show()"
   ]
  },
  {
   "cell_type": "code",
   "execution_count": 9,
   "metadata": {},
   "outputs": [],
   "source": [
    "data2 = data.groupby('species', as_index=False).mean()"
   ]
  },
  {
   "cell_type": "code",
   "execution_count": 10,
   "metadata": {},
   "outputs": [
    {
     "data": {
      "text/html": [
       "<div>\n",
       "<style scoped>\n",
       "    .dataframe tbody tr th:only-of-type {\n",
       "        vertical-align: middle;\n",
       "    }\n",
       "\n",
       "    .dataframe tbody tr th {\n",
       "        vertical-align: top;\n",
       "    }\n",
       "\n",
       "    .dataframe thead th {\n",
       "        text-align: right;\n",
       "    }\n",
       "</style>\n",
       "<table border=\"1\" class=\"dataframe\">\n",
       "  <thead>\n",
       "    <tr style=\"text-align: right;\">\n",
       "      <th></th>\n",
       "      <th>species</th>\n",
       "      <th>sepal_length</th>\n",
       "      <th>sepal_width</th>\n",
       "      <th>petal_length</th>\n",
       "      <th>petal_width</th>\n",
       "    </tr>\n",
       "  </thead>\n",
       "  <tbody>\n",
       "    <tr>\n",
       "      <th>0</th>\n",
       "      <td>Iris-setosa</td>\n",
       "      <td>5.006</td>\n",
       "      <td>3.418</td>\n",
       "      <td>1.464</td>\n",
       "      <td>0.244</td>\n",
       "    </tr>\n",
       "    <tr>\n",
       "      <th>1</th>\n",
       "      <td>Iris-versicolor</td>\n",
       "      <td>5.936</td>\n",
       "      <td>2.770</td>\n",
       "      <td>4.260</td>\n",
       "      <td>1.326</td>\n",
       "    </tr>\n",
       "    <tr>\n",
       "      <th>2</th>\n",
       "      <td>Iris-virginica</td>\n",
       "      <td>6.588</td>\n",
       "      <td>2.974</td>\n",
       "      <td>5.552</td>\n",
       "      <td>2.026</td>\n",
       "    </tr>\n",
       "  </tbody>\n",
       "</table>\n",
       "</div>"
      ],
      "text/plain": [
       "           species  sepal_length  sepal_width  petal_length  petal_width\n",
       "0      Iris-setosa         5.006        3.418         1.464        0.244\n",
       "1  Iris-versicolor         5.936        2.770         4.260        1.326\n",
       "2   Iris-virginica         6.588        2.974         5.552        2.026"
      ]
     },
     "execution_count": 10,
     "metadata": {},
     "output_type": "execute_result"
    }
   ],
   "source": [
    "data2"
   ]
  },
  {
   "cell_type": "code",
   "execution_count": 13,
   "metadata": {},
   "outputs": [
    {
     "data": {
      "image/png": "[encoded data removed]",
      "text/plain": [
       "<Figure size 576x216 with 1 Axes>"
      ]
     },
     "metadata": {
      "needs_background": "light"
     },
     "output_type": "display_data"
    }
   ],
   "source": [
    "# Overlapping bars-stacked bar chart.\n",
    "plt.figure(figsize=(8,3))\n",
    "plt.barh(data2['species'], data2['sepal_length'])\n",
    "plt.barh(data2['species'], data2['petal_length'])\n",
    "plt.xlabel('Average of Sepal Lengths & Petal Length')\n",
    "plt.ylabel('Species')\n",
    "plt.legend(['Sepal Legth', 'Petal Length'])\n",
    "plt.show()"
   ]
  },
  {
   "cell_type": "markdown",
   "metadata": {},
   "source": [
    "To avoid overlapping, we can create grouped bar chart."
   ]
  },
  {
   "cell_type": "code",
   "execution_count": 14,
   "metadata": {},
   "outputs": [
    {
     "data": {
      "image/png": "[encoded data removed]",
      "text/plain": [
       "<Figure size 576x216 with 1 Axes>"
      ]
     },
     "metadata": {
      "needs_background": "light"
     },
     "output_type": "display_data"
    }
   ],
   "source": [
    "# Grouped bar chart.\n",
    "plt.figure(figsize=(8,3))\n",
    "plt.barh(data2['species'], data2['sepal_length'], align='edge', height=0.4)\n",
    "plt.barh(data2['species'], data2['petal_length'], align='edge', height=-0.4)\n",
    "plt.xlabel('Average of Sepal Length & Petal Length')\n",
    "plt.ylabel('Species')\n",
    "plt.legend(['Sepal Length', 'Petal Length'])\n",
    "plt.show()"
   ]
  },
  {
   "cell_type": "code",
   "execution_count": 15,
   "metadata": {},
   "outputs": [
    {
     "data": {
      "image/png": "[encoded data removed]",
      "text/plain": [
       "<Figure size 576x216 with 1 Axes>"
      ]
     },
     "metadata": {
      "needs_background": "light"
     },
     "output_type": "display_data"
    }
   ],
   "source": [
    "# Combination Plot\n",
    "plt.figure(figsize=(8,3))\n",
    "plt.plot(data2['species'], data2['sepal_length'])\n",
    "plt.bar(data2['species'], data2['petal_length'])\n",
    "plt.xlabel('Average of Sepal Length & Petal Length')\n",
    "plt.ylabel('Species')\n",
    "plt.legend(['Sepal Length', 'Petal Length'])\n",
    "plt.show()"
   ]
  },
  {
   "cell_type": "code",
   "execution_count": null,
   "metadata": {},
   "outputs": [],
   "source": []
  }
 ],
 "metadata": {
  "kernelspec": {
   "display_name": "Python 3",
   "language": "python",
   "name": "python3"
  },
  "language_info": {
   "codemirror_mode": {
    "name": "ipython",
    "version": 3
   },
   "file_extension": ".py",
   "mimetype": "text/x-python",
   "name": "python",
   "nbconvert_exporter": "python",
   "pygments_lexer": "ipython3",
   "version": "3.8.5"
  }
 },
 "nbformat": 4,
 "nbformat_minor": 4
}
